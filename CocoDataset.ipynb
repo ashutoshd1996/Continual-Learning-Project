{
  "nbformat": 4,
  "nbformat_minor": 0,
  "metadata": {
    "colab": {
      "provenance": [],
      "authorship_tag": "ABX9TyN/g3N7MiWrZnCrJjtvwrsB",
      "include_colab_link": true
    },
    "kernelspec": {
      "name": "python3",
      "display_name": "Python 3"
    },
    "language_info": {
      "name": "python"
    }
  },
  "cells": [
    {
      "cell_type": "markdown",
      "metadata": {
        "id": "view-in-github",
        "colab_type": "text"
      },
      "source": [
        "<a href=\"https://colab.research.google.com/github/ashutoshd1996/Continual-Learning-Project/blob/main/CocoDataset.ipynb\" target=\"_parent\"><img src=\"https://colab.research.google.com/assets/colab-badge.svg\" alt=\"Open In Colab\"/></a>"
      ]
    },
    {
      "cell_type": "code",
      "execution_count": 1,
      "metadata": {
        "colab": {
          "base_uri": "https://localhost:8080/"
        },
        "id": "d7mWVO4FZYgx",
        "outputId": "aff2f8d3-5aa7-49b8-9607-f570b3d5c623"
      },
      "outputs": [
        {
          "output_type": "stream",
          "name": "stdout",
          "text": [
            "Looking in indexes: https://pypi.org/simple, https://us-python.pkg.dev/colab-wheels/public/simple/\n",
            "Collecting cocoDataset\n",
            "  Downloading CocoDataset-0.1.2-py3-none-any.whl (4.2 kB)\n",
            "Requirement already satisfied: pycocotools in /usr/local/lib/python3.7/dist-packages (from cocoDataset) (2.0.6)\n",
            "Requirement already satisfied: matplotlib>=2.1.0 in /usr/local/lib/python3.7/dist-packages (from pycocotools->cocoDataset) (3.2.2)\n",
            "Requirement already satisfied: numpy in /usr/local/lib/python3.7/dist-packages (from pycocotools->cocoDataset) (1.21.6)\n",
            "Requirement already satisfied: pyparsing!=2.0.4,!=2.1.2,!=2.1.6,>=2.0.1 in /usr/local/lib/python3.7/dist-packages (from matplotlib>=2.1.0->pycocotools->cocoDataset) (3.0.9)\n",
            "Requirement already satisfied: kiwisolver>=1.0.1 in /usr/local/lib/python3.7/dist-packages (from matplotlib>=2.1.0->pycocotools->cocoDataset) (1.4.4)\n",
            "Requirement already satisfied: cycler>=0.10 in /usr/local/lib/python3.7/dist-packages (from matplotlib>=2.1.0->pycocotools->cocoDataset) (0.11.0)\n",
            "Requirement already satisfied: python-dateutil>=2.1 in /usr/local/lib/python3.7/dist-packages (from matplotlib>=2.1.0->pycocotools->cocoDataset) (2.8.2)\n",
            "Requirement already satisfied: typing-extensions in /usr/local/lib/python3.7/dist-packages (from kiwisolver>=1.0.1->matplotlib>=2.1.0->pycocotools->cocoDataset) (4.1.1)\n",
            "Requirement already satisfied: six>=1.5 in /usr/local/lib/python3.7/dist-packages (from python-dateutil>=2.1->matplotlib>=2.1.0->pycocotools->cocoDataset) (1.15.0)\n",
            "Installing collected packages: cocoDataset\n",
            "Successfully installed cocoDataset-0.1.2\n"
          ]
        }
      ],
      "source": [
        "!pip install cocoDataset"
      ]
    },
    {
      "cell_type": "code",
      "source": [
        "!wget http://images.cocodataset.org/annotations/annotations_trainval2017.zip\n",
        "!unzip /content/annotations_trainval2017.zip"
      ],
      "metadata": {
        "colab": {
          "base_uri": "https://localhost:8080/"
        },
        "id": "ot2MBMtGZn4i",
        "outputId": "f00a2261-51ef-4a52-fb95-a86e4a665320"
      },
      "execution_count": 2,
      "outputs": [
        {
          "output_type": "stream",
          "name": "stdout",
          "text": [
            "--2022-11-21 01:18:05--  http://images.cocodataset.org/annotations/annotations_trainval2017.zip\n",
            "Resolving images.cocodataset.org (images.cocodataset.org)... 3.5.10.151, 52.216.90.28, 52.216.42.145, ...\n",
            "Connecting to images.cocodataset.org (images.cocodataset.org)|3.5.10.151|:80... connected.\n",
            "HTTP request sent, awaiting response... 200 OK\n",
            "Length: 252907541 (241M) [application/zip]\n",
            "Saving to: ‘annotations_trainval2017.zip’\n",
            "\n",
            "annotations_trainva 100%[===================>] 241.19M  97.1MB/s    in 2.5s    \n",
            "\n",
            "2022-11-21 01:18:08 (97.1 MB/s) - ‘annotations_trainval2017.zip’ saved [252907541/252907541]\n",
            "\n",
            "Archive:  /content/annotations_trainval2017.zip\n",
            "  inflating: annotations/instances_train2017.json  \n",
            "  inflating: annotations/instances_val2017.json  \n",
            "  inflating: annotations/captions_train2017.json  \n",
            "  inflating: annotations/captions_val2017.json  \n",
            "  inflating: annotations/person_keypoints_train2017.json  \n",
            "  inflating: annotations/person_keypoints_val2017.json  \n"
          ]
        }
      ]
    },
    {
      "cell_type": "code",
      "source": [
        "from coco_dataset import coco_dataset_download as cocod\n",
        "class_names=[#'person', 'car', 'stop sign',\n",
        "             'traffic light', 'motorcycle','boat','truck','bus','airplane','suitcase']\n",
        "image_count=500\n",
        "annotations_path='/content/annotations/instances_train2017.json'\n",
        "\n",
        "for class_name in class_names:\n",
        "  cocod.coco_dataset_download(class_name,image_count,annotations_path)"
      ],
      "metadata": {
        "colab": {
          "base_uri": "https://localhost:8080/"
        },
        "id": "pWy1X35Aaqrh",
        "outputId": "cf24cb9d-0e9b-49ff-c8d6-ace0d67b22a6"
      },
      "execution_count": 5,
      "outputs": [
        {
          "output_type": "stream",
          "name": "stdout",
          "text": [
            "no.of image: 344\n",
            "no.of image: 345\n",
            "no.of image: 346\n",
            "no.of image: 347\n",
            "no.of image: 348\n",
            "no.of image: 349\n",
            "no.of image: 350\n",
            "no.of image: 351\n",
            "no.of image: 352\n",
            "no.of image: 353\n",
            "no.of image: 354\n",
            "no.of image: 355\n",
            "no.of image: 356\n",
            "no.of image: 357\n",
            "no.of image: 358\n",
            "no.of image: 359\n",
            "no.of image: 360\n",
            "no.of image: 361\n",
            "no.of image: 362\n",
            "no.of image: 363\n",
            "no.of image: 364\n",
            "no.of image: 365\n",
            "no.of image: 366\n",
            "no.of image: 367\n",
            "no.of image: 368\n",
            "no.of image: 369\n",
            "no.of image: 370\n",
            "no.of image: 371\n",
            "no.of image: 372\n",
            "no.of image: 373\n",
            "no.of image: 374\n",
            "no.of image: 375\n",
            "no.of image: 376\n",
            "no.of image: 377\n",
            "no.of image: 378\n",
            "no.of image: 379\n",
            "no.of image: 380\n",
            "no.of image: 381\n",
            "no.of image: 382\n",
            "no.of image: 383\n",
            "no.of image: 384\n",
            "no.of image: 385\n",
            "no.of image: 386\n",
            "no.of image: 387\n",
            "no.of image: 388\n",
            "no.of image: 389\n",
            "no.of image: 390\n",
            "no.of image: 391\n",
            "no.of image: 392\n",
            "no.of image: 393\n",
            "no.of image: 394\n",
            "no.of image: 395\n",
            "no.of image: 396\n",
            "no.of image: 397\n",
            "no.of image: 398\n",
            "no.of image: 399\n",
            "no.of image: 400\n",
            "no.of image: 401\n",
            "no.of image: 402\n",
            "no.of image: 403\n",
            "no.of image: 404\n",
            "no.of image: 405\n",
            "no.of image: 406\n",
            "no.of image: 407\n",
            "no.of image: 408\n",
            "no.of image: 409\n",
            "no.of image: 410\n",
            "no.of image: 411\n",
            "no.of image: 412\n",
            "no.of image: 413\n",
            "no.of image: 414\n",
            "no.of image: 415\n",
            "no.of image: 416\n",
            "no.of image: 417\n",
            "no.of image: 418\n",
            "no.of image: 419\n",
            "no.of image: 420\n",
            "no.of image: 421\n",
            "no.of image: 422\n",
            "no.of image: 423\n",
            "no.of image: 424\n",
            "no.of image: 425\n",
            "no.of image: 426\n",
            "no.of image: 427\n",
            "no.of image: 428\n",
            "no.of image: 429\n",
            "no.of image: 430\n",
            "no.of image: 431\n",
            "no.of image: 432\n",
            "no.of image: 433\n",
            "no.of image: 434\n",
            "no.of image: 435\n",
            "no.of image: 436\n",
            "no.of image: 437\n",
            "no.of image: 438\n",
            "no.of image: 439\n",
            "no.of image: 440\n",
            "no.of image: 441\n",
            "no.of image: 442\n",
            "no.of image: 443\n",
            "no.of image: 444\n",
            "no.of image: 445\n",
            "no.of image: 446\n",
            "no.of image: 447\n",
            "no.of image: 448\n",
            "no.of image: 449\n",
            "no.of image: 450\n",
            "no.of image: 451\n",
            "no.of image: 452\n",
            "no.of image: 453\n",
            "no.of image: 454\n",
            "no.of image: 455\n",
            "no.of image: 456\n",
            "no.of image: 457\n",
            "no.of image: 458\n",
            "no.of image: 459\n",
            "no.of image: 460\n",
            "no.of image: 461\n",
            "no.of image: 462\n",
            "no.of image: 463\n",
            "no.of image: 464\n",
            "no.of image: 465\n",
            "no.of image: 466\n",
            "no.of image: 467\n",
            "no.of image: 468\n",
            "no.of image: 469\n",
            "no.of image: 470\n",
            "no.of image: 471\n",
            "no.of image: 472\n",
            "no.of image: 473\n",
            "no.of image: 474\n",
            "no.of image: 475\n",
            "no.of image: 476\n",
            "no.of image: 477\n",
            "no.of image: 478\n",
            "no.of image: 479\n",
            "no.of image: 480\n",
            "no.of image: 481\n",
            "no.of image: 482\n",
            "no.of image: 483\n",
            "no.of image: 484\n",
            "no.of image: 485\n",
            "no.of image: 486\n",
            "no.of image: 487\n",
            "no.of image: 488\n",
            "no.of image: 489\n",
            "no.of image: 490\n",
            "no.of image: 491\n",
            "no.of image: 492\n",
            "no.of image: 493\n",
            "no.of image: 494\n",
            "no.of image: 495\n",
            "no.of image: 496\n",
            "no.of image: 497\n",
            "no.of image: 498\n",
            "no.of image: 499\n",
            "no.of image: 500\n",
            "finished images download\n"
          ]
        }
      ]
    },
    {
      "cell_type": "code",
      "source": [
        "# !rm -rf 'traffic light'"
      ],
      "metadata": {
        "id": "138dnZ_VcepX"
      },
      "execution_count": 4,
      "outputs": []
    }
  ]
}